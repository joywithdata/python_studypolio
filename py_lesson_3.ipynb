{
 "cells": [
  {
   "cell_type": "markdown",
   "metadata": {},
   "source": [
    "### 파이썬 톺아보기 (3)"
   ]
  },
  {
   "cell_type": "markdown",
   "metadata": {},
   "source": [
    "## 0. 복습"
   ]
  },
  {
   "cell_type": "markdown",
   "metadata": {},
   "source": [
    "### 1. 클래스\n",
    "<br>- 똑같은 무언가를 만들어내기 위한 설계도(틀) -> 쿠키 커터(틀)\n",
    "<br>- 그럼 이 설계도로 만들어낸 것은? 객체! -> 쿠키 커터(틀)로 찍어낸 쿠키"
   ]
  },
  {
   "cell_type": "code",
   "execution_count": 1,
   "metadata": {},
   "outputs": [
    {
     "name": "stdout",
     "output_type": "stream",
     "text": [
      "Jack's bmi = 27.68\n",
      "John's bmi = 24.69\n"
     ]
    }
   ],
   "source": [
    "def calc_bmi(height, weight):\n",
    "    # 키는 입력받을 때 cm 단위로 입력받지만, 계산을 위해 m 단위로 변경해줌\n",
    "    height = height * 0.01\n",
    "    return weight / (height ** 2)\n",
    "\n",
    "person_1_name = \"Jack\"\n",
    "person_1_height = 170\n",
    "person_1_weight = 80\n",
    "\n",
    "person_2_name = \"John\"\n",
    "person_2_height = 180\n",
    "person_2_weight = 80\n",
    "\n",
    "person_1_bmi = calc_bmi(person_1_height, person_1_weight)\n",
    "person_2_bmi = calc_bmi(person_2_height, person_2_weight)\n",
    "\n",
    "print(\"{}'s bmi = {:.2f}\".format(person_1_name, person_1_bmi))\n",
    "print(\"{}'s bmi = {:.2f}\".format(person_2_name, person_2_bmi))"
   ]
  },
  {
   "cell_type": "code",
   "execution_count": 46,
   "metadata": {},
   "outputs": [
    {
     "name": "stdout",
     "output_type": "stream",
     "text": [
      "Jack's bmi = 27.68\n",
      "John's bmi = 24.69\n"
     ]
    }
   ],
   "source": [
    "class Person:\n",
    "    def __init__(self, name, height, weight):\n",
    "        self.name = name\n",
    "        self.height = height\n",
    "        self.weight = weight\n",
    "        \n",
    "    def bmi(self):\n",
    "        # 키는 입력받을 때 cm 단위로 입력받지만, 계산을 위해 m 단위로 변경해줌\n",
    "        height = self.height * 0.01\n",
    "        return self.weight / (height ** 2)\n",
    "    \n",
    "    def print_bmi(self):\n",
    "        print(\"{}'s bmi = {:.2f}\".format(self.name, self.bmi()))\n",
    "        \n",
    "person_1 = Person(\"Jack\", 170, 80)\n",
    "person_2 = Person(\"John\", 180, 80)\n",
    "\n",
    "person_1.print_bmi()\n",
    "person_2.print_bmi()"
   ]
  },
  {
   "cell_type": "code",
   "execution_count": 26,
   "metadata": {},
   "outputs": [
    {
     "data": {
      "text/plain": [
       "<__main__.Person at 0x7fec9335f790>"
      ]
     },
     "execution_count": 26,
     "metadata": {},
     "output_type": "execute_result"
    }
   ],
   "source": [
    "class Person:\n",
    "    def __init__(self, name, age, job): # 클래스 안에 구현된 함수 == 매서드(Method)\n",
    "        self.name = name # self.name으로 재정의하는 이유 -> 클래스 값을 들고 있는 새로운 변수를 \n",
    "        self.age = age\n",
    "        self.job = job\n",
    "    def print_info(self):\n",
    "        print(f\"저의 이름은 {self.name}입니다.\") # f를 안쓰면 self.name이 그대로 출력된다\n",
    "        print(f\"전 {self.age}살이구요. 직업은 {self.job}입니다.\")\n",
    "p1 = Person(\"Joy\", 27, \"Programmer\")\n",
    "p1"
   ]
  },
  {
   "cell_type": "code",
   "execution_count": 27,
   "metadata": {},
   "outputs": [
    {
     "name": "stdout",
     "output_type": "stream",
     "text": [
      "저의 이름은 Joy입니다.\n",
      "전 27살이구요. 직업은 Programmer입니다.\n"
     ]
    }
   ],
   "source": [
    "p1.print_info()"
   ]
  },
  {
   "cell_type": "code",
   "execution_count": 34,
   "metadata": {},
   "outputs": [
    {
     "data": {
      "text/plain": [
       "<__main__.BibimBob at 0x7fec933192e0>"
      ]
     },
     "execution_count": 34,
     "metadata": {},
     "output_type": "execute_result"
    }
   ],
   "source": [
    "class BibimBob:\n",
    "    def __init__(self, rice, j1, j2, j3): \n",
    "        self.rice = rice\n",
    "        self.j1 = j1\n",
    "        self.j2 = j2\n",
    "        self.j3 = j3\n",
    "    def print_all_j(self):\n",
    "        print(f\"밥은 {self.rice}!\")\n",
    "        print(f\"재료1은 {self.j1}!\")\n",
    "        print(f\"재료2는 {self.j2}!\")\n",
    "        print(f\"재료3은 {self.j3}!\")\n",
    "    def mix(self):\n",
    "        print(f\"{self.rice}에 {self.j1}, {self.j2}, {self.j3}를 섞어 만든 비빔밥이 완성되었습니다!\")\n",
    "bibimbob = BibimBob(\"쌀밥\", \"참기름\", \"고추장\", \"계란후라이\")\n",
    "bibimbob"
   ]
  },
  {
   "cell_type": "code",
   "execution_count": 36,
   "metadata": {},
   "outputs": [
    {
     "name": "stdout",
     "output_type": "stream",
     "text": [
      "쌀밥에 참기름, 고추장, 계란후라이를 섞어 만든 비빔밥이 완성되었습니다!\n"
     ]
    }
   ],
   "source": [
    "bibimbob.mix()"
   ]
  },
  {
   "cell_type": "code",
   "execution_count": 54,
   "metadata": {},
   "outputs": [
    {
     "name": "stdout",
     "output_type": "stream",
     "text": [
      "30은 15과(와) 2를 곱한 값입니다!\n"
     ]
    }
   ],
   "source": [
    "class Multiple: # class 무조건 첫 글자 대문자!\n",
    "    def __init__(self, num1, num2):\n",
    "        self.num1 = num1\n",
    "        self.num2 = num2\n",
    "    def mul(self):\n",
    "        return self.num1 * self.num2\n",
    "    def print_mul(self):\n",
    "        print(f\"{self.mul()}은 {self.num1}과(와) {self.num2}를 곱한 값입니다!\")\n",
    "    \n",
    "m = Multiple(15, 2)\n",
    "m.print_mul()"
   ]
  },
  {
   "cell_type": "markdown",
   "metadata": {},
   "source": [
    "### 2. 모듈"
   ]
  },
  {
   "cell_type": "markdown",
   "metadata": {},
   "source": [
    "- 모듈이란? 함수나 변수, 클래스를 모아놓은 파일\n",
    "- 보통 .py 파일 하나가 하나의 모듈"
   ]
  },
  {
   "cell_type": "markdown",
   "metadata": {},
   "source": [
    "- 모듈 만드는 방법"
   ]
  },
  {
   "cell_type": "code",
   "execution_count": 5,
   "metadata": {},
   "outputs": [],
   "source": [
    "# 1. 새로운 노트북 생성\n",
    "# 2. 함수 작성\n",
    "\n",
    "def calc_bmi(height, weight):\n",
    "    height = height * 0.01\n",
    "    return weight / (height ** 2)\n",
    "\n",
    "# 3. .py 파일로 다운\n",
    "# 4. 사용 중인 노트북과 동일한 위쳉 저장 후 파일명 bmi.py로 변경"
   ]
  },
  {
   "cell_type": "code",
   "execution_count": null,
   "metadata": {},
   "outputs": [],
   "source": [
    "# 모듈 사용방식 1 : import 모듈이름\n",
    "import bmi as b1\n",
    "# 모듈 사용방식 2 : from 모듈이름 import 모듈 안의 함수\n",
    "from bmi import calc_bmi as b2\n",
    "\n",
    "print(bmi)\n",
    "print(bmi.calc_bmi(180,80))\n",
    "print(calc_bmi(180,80))"
   ]
  }
 ],
 "metadata": {
  "kernelspec": {
   "display_name": "Python 3",
   "language": "python",
   "name": "python3"
  },
  "language_info": {
   "codemirror_mode": {
    "name": "ipython",
    "version": 3
   },
   "file_extension": ".py",
   "mimetype": "text/x-python",
   "name": "python",
   "nbconvert_exporter": "python",
   "pygments_lexer": "ipython3",
   "version": "3.8.3"
  }
 },
 "nbformat": 4,
 "nbformat_minor": 4
}
